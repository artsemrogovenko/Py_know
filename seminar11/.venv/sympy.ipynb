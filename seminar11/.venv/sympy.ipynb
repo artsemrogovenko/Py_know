{
 "cells": [
  {
   "cell_type": "code",
   "execution_count": 4,
   "metadata": {},
   "outputs": [
    {
     "name": "stdout",
     "output_type": "stream",
     "text": [
      "[2/5 - sqrt(74)/5, 2/5 + sqrt(74)/5]\n",
      "((-oo < x) & (x < 2/5 - sqrt(74)/5)) | ((x < oo) & (2/5 + sqrt(74)/5 < x))\n",
      "(x < 2/5 + sqrt(74)/5) & (2/5 - sqrt(74)/5 < x)\n",
      "(-oo < x) & (x < 2/5)\n",
      "(2/5 < x) & (x < oo)\n"
     ]
    }
   ],
   "source": [
    "import math\n",
    "from sympy import*\n",
    "from sympy.plotting import plot\n",
    "#https://docs.google.com/document/d/1wmPgo-AOM1su0VqSj3L3C77tUUiF2BtiFQwKEgkjN_c/edit#heading=h.gjdgxs\n",
    "x=symbols('x')\n",
    "y=-5*x**2+4*x+14\n",
    "fd=diff(y)\n",
    "\n",
    "print(solve(y))\n",
    "print(solve(y<0))\n",
    "print(solve(y>0))\n",
    "print(solve(fd>0))\n",
    "print(solve(fd<0))\n",
    "\n",
    "# Дана функция f(x) = 5x^2 + 10x - 30\n",
    "# 1 Определить корни\n",
    "# 2 Найти интервалы, на которых функция возрастает\n",
    "# 3 Найти интервалы, на которых функция убывает\n",
    "# 4 Построить график\n",
    "# 5 Вычислить вершину\n",
    "# 6 Определить промежутки, на котором f > 0\n",
    "# 7 Определить промежутки, на котором f < 0\n"
   ]
  }
 ],
 "metadata": {
  "kernelspec": {
   "display_name": "Python 3.8.6 64-bit",
   "language": "python",
   "name": "python3"
  },
  "language_info": {
   "codemirror_mode": {
    "name": "ipython",
    "version": 3
   },
   "file_extension": ".py",
   "mimetype": "text/x-python",
   "name": "python",
   "nbconvert_exporter": "python",
   "pygments_lexer": "ipython3",
   "version": "3.8.6"
  },
  "orig_nbformat": 4,
  "vscode": {
   "interpreter": {
    "hash": "76206eec8c8edd627e48434aaaff146388bf7479699fc706ff639280c5d3f20c"
   }
  }
 },
 "nbformat": 4,
 "nbformat_minor": 2
}
