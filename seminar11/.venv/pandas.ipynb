{
 "cells": [
  {
   "cell_type": "code",
   "execution_count": 102,
   "metadata": {},
   "outputs": [
    {
     "name": "stdout",
     "output_type": "stream",
     "text": [
      "22500.0\n",
      "1230.0\n"
     ]
    }
   ],
   "source": [
    "import pandas as pd\n",
    "#https://docs.google.com/document/d/1wmPgo-AOM1su0VqSj3L3C77tUUiF2BtiFQwKEgkjN_c/edit#heading=h.gjdgxs\n",
    "df=pd.read_csv(\"california_housing_test.csv\")\n",
    "\n",
    "\n",
    "# Прочесть с помощью pandas файл california_housing_test.csv, который находится в папке sample_data\n",
    "#print(df)\n",
    "# Посмотреть сколько в нем строк и столбцов\n",
    "# Определить какой тип данных имеют столбцы\n",
    "# print(df.dtypes)\n",
    "# Проверить есть ли в файле пустые значения\n",
    "# print(df.isnull().sum())\n",
    "# Показать median_house_value где median_income < 2\n",
    "# print(df[df['median_income'] < 2]['median_house_value'])\n",
    "# print(df.loc[df['median_income'] < 2, 'median_house_value'])\n",
    "# Показать данные в первых 2 столбцах\n",
    "# print(df[['longitude', 'latitude']])\n",
    "# Выбрать данные где housing_median_age < 20 и median_house_value > 70000\n",
    "# print(df[(df['housing_median_age'] < 20) & (df['median_house_value'] > 70000)])\n",
    "# Определить какое максимальное и минимальное значение median_house_value\n",
    "# print(df['median_house_value'].max() , df['median_house_value'].min())\n",
    "# Показать максимальное median_house_value, где median_income = 3.1250\n",
    "# print(df[df['median_income']==3.1250]['median_house_value'].max())\n",
    "# Узнать какая максимальная population в зоне минимального значения median_house_value\n",
    "print(df['median_house_value'].min())\n",
    "print(df[df['median_house_value']==22500.0]['population'].max())\n",
    "\n"
   ]
  }
 ],
 "metadata": {
  "kernelspec": {
   "display_name": "Python 3.8.6 64-bit",
   "language": "python",
   "name": "python3"
  },
  "language_info": {
   "codemirror_mode": {
    "name": "ipython",
    "version": 3
   },
   "file_extension": ".py",
   "mimetype": "text/x-python",
   "name": "python",
   "nbconvert_exporter": "python",
   "pygments_lexer": "ipython3",
   "version": "3.8.6"
  },
  "orig_nbformat": 4,
  "vscode": {
   "interpreter": {
    "hash": "76206eec8c8edd627e48434aaaff146388bf7479699fc706ff639280c5d3f20c"
   }
  }
 },
 "nbformat": 4,
 "nbformat_minor": 2
}
